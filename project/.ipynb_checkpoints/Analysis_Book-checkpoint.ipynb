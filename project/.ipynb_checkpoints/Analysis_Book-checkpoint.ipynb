{
 "cells": [
  {
   "cell_type": "markdown",
   "id": "cea36d38",
   "metadata": {},
   "source": [
    "## Usage\n",
    "This Notebook is made to do analysis based on the data transfered/received from and to the C++ Image Enhancer file."
   ]
  },
  {
   "cell_type": "code",
   "execution_count": 2,
   "id": "6875b562",
   "metadata": {},
   "outputs": [],
   "source": [
    "from PIL import Image\n",
    "import numpy as np"
   ]
  },
  {
   "cell_type": "markdown",
   "id": "5c9fe63b",
   "metadata": {},
   "source": [
    "### Read Image \n",
    "Read the image for the pixel values and then writes it into a CSV file."
   ]
  },
  {
   "cell_type": "code",
   "execution_count": 7,
   "id": "e7dcabe1",
   "metadata": {},
   "outputs": [
    {
     "name": "stdout",
     "output_type": "stream",
     "text": [
      "32\n"
     ]
    }
   ],
   "source": [
    "im = Image.open(\"static/input_image_1.jpg\").convert('L') # 8-bit Mode convert\n",
    "im.show()\n",
    "\n",
    "pixels = list(im.getdata())\n",
    "\n",
    "# print(pixels)\n",
    "# width, height = im.size\n",
    "# pixels = [pixels[i * width:(i + 1) * width] for i in xrange(height)]\n",
    "\n",
    "px = im.load()\n",
    "print(px[4,2])"
   ]
  }
 ],
 "metadata": {
  "kernelspec": {
   "display_name": "Python 3 (ipykernel)",
   "language": "python",
   "name": "python3"
  },
  "language_info": {
   "codemirror_mode": {
    "name": "ipython",
    "version": 3
   },
   "file_extension": ".py",
   "mimetype": "text/x-python",
   "name": "python",
   "nbconvert_exporter": "python",
   "pygments_lexer": "ipython3",
   "version": "3.10.6"
  }
 },
 "nbformat": 4,
 "nbformat_minor": 5
}
